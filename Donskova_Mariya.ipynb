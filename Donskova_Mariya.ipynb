{
 "cells": [
  {
   "cell_type": "markdown",
   "metadata": {},
   "source": [
    "В работе использовалось: \n",
    "    https://github.com/alexust98/My-pracs/blob/master/news%20sentiment/prac_2.ipynb\n",
    "    https://github.com/kryzhanovskaya/mmp_practicum_fall_2018/blob/master/Линейные%20модели%20классификации/report.pdf\n",
    "    https://github.com/mmp-practicum-team/mmp_practicum_fall_2018/blob/master/08_linear_and_text/main.pdf"
   ]
  },
  {
   "cell_type": "code",
   "execution_count": 1,
   "metadata": {},
   "outputs": [
    {
     "data": {
      "text/html": [
       "<div>\n",
       "<style scoped>\n",
       "    .dataframe tbody tr th:only-of-type {\n",
       "        vertical-align: middle;\n",
       "    }\n",
       "\n",
       "    .dataframe tbody tr th {\n",
       "        vertical-align: top;\n",
       "    }\n",
       "\n",
       "    .dataframe thead th {\n",
       "        text-align: right;\n",
       "    }\n",
       "</style>\n",
       "<table border=\"1\" class=\"dataframe\">\n",
       "  <thead>\n",
       "    <tr style=\"text-align: right;\">\n",
       "      <th></th>\n",
       "      <th>Unnamed: 0</th>\n",
       "      <th>comment_text</th>\n",
       "      <th>is_toxic</th>\n",
       "    </tr>\n",
       "  </thead>\n",
       "  <tbody>\n",
       "    <tr>\n",
       "      <td>0</td>\n",
       "      <td>0</td>\n",
       "      <td>Explanation\\nWhy the edits made under my usern...</td>\n",
       "      <td>False</td>\n",
       "    </tr>\n",
       "    <tr>\n",
       "      <td>1</td>\n",
       "      <td>1</td>\n",
       "      <td>D'aww! He matches this background colour I'm s...</td>\n",
       "      <td>False</td>\n",
       "    </tr>\n",
       "    <tr>\n",
       "      <td>2</td>\n",
       "      <td>2</td>\n",
       "      <td>Hey man, I'm really not trying to edit war. It...</td>\n",
       "      <td>False</td>\n",
       "    </tr>\n",
       "    <tr>\n",
       "      <td>3</td>\n",
       "      <td>3</td>\n",
       "      <td>\"\\nMore\\nI can't make any real suggestions on ...</td>\n",
       "      <td>False</td>\n",
       "    </tr>\n",
       "    <tr>\n",
       "      <td>4</td>\n",
       "      <td>4</td>\n",
       "      <td>You, sir, are my hero. Any chance you remember...</td>\n",
       "      <td>False</td>\n",
       "    </tr>\n",
       "    <tr>\n",
       "      <td>5</td>\n",
       "      <td>5</td>\n",
       "      <td>\"\\n\\nCongratulations from me as well, use the ...</td>\n",
       "      <td>False</td>\n",
       "    </tr>\n",
       "    <tr>\n",
       "      <td>6</td>\n",
       "      <td>6</td>\n",
       "      <td>COCKSUCKER BEFORE YOU PISS AROUND ON MY WORK</td>\n",
       "      <td>True</td>\n",
       "    </tr>\n",
       "    <tr>\n",
       "      <td>7</td>\n",
       "      <td>7</td>\n",
       "      <td>Your vandalism to the Matt Shirvington article...</td>\n",
       "      <td>False</td>\n",
       "    </tr>\n",
       "    <tr>\n",
       "      <td>8</td>\n",
       "      <td>8</td>\n",
       "      <td>Sorry if the word 'nonsense' was offensive to ...</td>\n",
       "      <td>False</td>\n",
       "    </tr>\n",
       "    <tr>\n",
       "      <td>9</td>\n",
       "      <td>9</td>\n",
       "      <td>alignment on this subject and which are contra...</td>\n",
       "      <td>False</td>\n",
       "    </tr>\n",
       "    <tr>\n",
       "      <td>10</td>\n",
       "      <td>10</td>\n",
       "      <td>\"\\nFair use rationale for Image:Wonju.jpg\\n\\nT...</td>\n",
       "      <td>False</td>\n",
       "    </tr>\n",
       "    <tr>\n",
       "      <td>11</td>\n",
       "      <td>11</td>\n",
       "      <td>bbq \\n\\nbe a man and lets discuss it-maybe ove...</td>\n",
       "      <td>False</td>\n",
       "    </tr>\n",
       "    <tr>\n",
       "      <td>12</td>\n",
       "      <td>12</td>\n",
       "      <td>Hey... what is it..\\n@ | talk .\\nWhat is it......</td>\n",
       "      <td>True</td>\n",
       "    </tr>\n",
       "    <tr>\n",
       "      <td>13</td>\n",
       "      <td>13</td>\n",
       "      <td>Before you start throwing accusations and warn...</td>\n",
       "      <td>False</td>\n",
       "    </tr>\n",
       "    <tr>\n",
       "      <td>14</td>\n",
       "      <td>14</td>\n",
       "      <td>Oh, and the girl above started her arguments w...</td>\n",
       "      <td>False</td>\n",
       "    </tr>\n",
       "  </tbody>\n",
       "</table>\n",
       "</div>"
      ],
      "text/plain": [
       "    Unnamed: 0                                       comment_text  is_toxic\n",
       "0            0  Explanation\\nWhy the edits made under my usern...     False\n",
       "1            1  D'aww! He matches this background colour I'm s...     False\n",
       "2            2  Hey man, I'm really not trying to edit war. It...     False\n",
       "3            3  \"\\nMore\\nI can't make any real suggestions on ...     False\n",
       "4            4  You, sir, are my hero. Any chance you remember...     False\n",
       "5            5  \"\\n\\nCongratulations from me as well, use the ...     False\n",
       "6            6       COCKSUCKER BEFORE YOU PISS AROUND ON MY WORK      True\n",
       "7            7  Your vandalism to the Matt Shirvington article...     False\n",
       "8            8  Sorry if the word 'nonsense' was offensive to ...     False\n",
       "9            9  alignment on this subject and which are contra...     False\n",
       "10          10  \"\\nFair use rationale for Image:Wonju.jpg\\n\\nT...     False\n",
       "11          11  bbq \\n\\nbe a man and lets discuss it-maybe ove...     False\n",
       "12          12  Hey... what is it..\\n@ | talk .\\nWhat is it......      True\n",
       "13          13  Before you start throwing accusations and warn...     False\n",
       "14          14  Oh, and the girl above started her arguments w...     False"
      ]
     },
     "execution_count": 1,
     "metadata": {},
     "output_type": "execute_result"
    }
   ],
   "source": [
    "import pandas as pd\n",
    "import numpy as np\n",
    "\n",
    "train = pd.read_csv('toxic_train.csv')\n",
    "test = pd.read_csv('toxic_test.csv')\n",
    "train.head(15)"
   ]
  },
  {
   "cell_type": "markdown",
   "metadata": {},
   "source": [
    "### 1 Произведите предварительную обработку текста. Приведите все тексты к нижнему регистру. Замените в тексте все символы, не являющиеся буквами и цифрами, на пробелы.\n",
    "#### Замечание. Полезные функции: str.lower, str.split, str.isalnum, re.sub, re.split.\n",
    "False заменено на -1, а True на 1 для удобства"
   ]
  },
  {
   "cell_type": "code",
   "execution_count": 2,
   "metadata": {},
   "outputs": [
    {
     "data": {
      "text/html": [
       "<div>\n",
       "<style scoped>\n",
       "    .dataframe tbody tr th:only-of-type {\n",
       "        vertical-align: middle;\n",
       "    }\n",
       "\n",
       "    .dataframe tbody tr th {\n",
       "        vertical-align: top;\n",
       "    }\n",
       "\n",
       "    .dataframe thead th {\n",
       "        text-align: right;\n",
       "    }\n",
       "</style>\n",
       "<table border=\"1\" class=\"dataframe\">\n",
       "  <thead>\n",
       "    <tr style=\"text-align: right;\">\n",
       "      <th></th>\n",
       "      <th>Unnamed: 0</th>\n",
       "      <th>comment_text</th>\n",
       "      <th>is_toxic</th>\n",
       "    </tr>\n",
       "  </thead>\n",
       "  <tbody>\n",
       "    <tr>\n",
       "      <td>0</td>\n",
       "      <td>0</td>\n",
       "      <td>explanation why the edits made under my userna...</td>\n",
       "      <td>-1</td>\n",
       "    </tr>\n",
       "    <tr>\n",
       "      <td>1</td>\n",
       "      <td>1</td>\n",
       "      <td>d aww he matches this background colour i m se...</td>\n",
       "      <td>-1</td>\n",
       "    </tr>\n",
       "    <tr>\n",
       "      <td>2</td>\n",
       "      <td>2</td>\n",
       "      <td>hey man i m really not trying to edit war it s...</td>\n",
       "      <td>-1</td>\n",
       "    </tr>\n",
       "    <tr>\n",
       "      <td>3</td>\n",
       "      <td>3</td>\n",
       "      <td>more i can t make any real suggestions on imp...</td>\n",
       "      <td>-1</td>\n",
       "    </tr>\n",
       "    <tr>\n",
       "      <td>4</td>\n",
       "      <td>4</td>\n",
       "      <td>you sir are my hero any chance you remember wh...</td>\n",
       "      <td>-1</td>\n",
       "    </tr>\n",
       "    <tr>\n",
       "      <td>5</td>\n",
       "      <td>5</td>\n",
       "      <td>congratulations from me as well use the tool...</td>\n",
       "      <td>-1</td>\n",
       "    </tr>\n",
       "    <tr>\n",
       "      <td>6</td>\n",
       "      <td>6</td>\n",
       "      <td>cocksucker before you piss around on my work</td>\n",
       "      <td>1</td>\n",
       "    </tr>\n",
       "    <tr>\n",
       "      <td>7</td>\n",
       "      <td>7</td>\n",
       "      <td>your vandalism to the matt shirvington article...</td>\n",
       "      <td>-1</td>\n",
       "    </tr>\n",
       "    <tr>\n",
       "      <td>8</td>\n",
       "      <td>8</td>\n",
       "      <td>sorry if the word nonsense was offensive to yo...</td>\n",
       "      <td>-1</td>\n",
       "    </tr>\n",
       "    <tr>\n",
       "      <td>9</td>\n",
       "      <td>9</td>\n",
       "      <td>alignment on this subject and which are contra...</td>\n",
       "      <td>-1</td>\n",
       "    </tr>\n",
       "    <tr>\n",
       "      <td>10</td>\n",
       "      <td>10</td>\n",
       "      <td>fair use rationale for image wonju jpg thanks...</td>\n",
       "      <td>-1</td>\n",
       "    </tr>\n",
       "    <tr>\n",
       "      <td>11</td>\n",
       "      <td>11</td>\n",
       "      <td>bbq  be a man and lets discuss it maybe over t...</td>\n",
       "      <td>-1</td>\n",
       "    </tr>\n",
       "    <tr>\n",
       "      <td>12</td>\n",
       "      <td>12</td>\n",
       "      <td>hey  what is it    talk  what is it  an exclus...</td>\n",
       "      <td>1</td>\n",
       "    </tr>\n",
       "    <tr>\n",
       "      <td>13</td>\n",
       "      <td>13</td>\n",
       "      <td>before you start throwing accusations and warn...</td>\n",
       "      <td>-1</td>\n",
       "    </tr>\n",
       "    <tr>\n",
       "      <td>14</td>\n",
       "      <td>14</td>\n",
       "      <td>oh and the girl above started her arguments wi...</td>\n",
       "      <td>-1</td>\n",
       "    </tr>\n",
       "  </tbody>\n",
       "</table>\n",
       "</div>"
      ],
      "text/plain": [
       "    Unnamed: 0                                       comment_text  is_toxic\n",
       "0            0  explanation why the edits made under my userna...        -1\n",
       "1            1  d aww he matches this background colour i m se...        -1\n",
       "2            2  hey man i m really not trying to edit war it s...        -1\n",
       "3            3   more i can t make any real suggestions on imp...        -1\n",
       "4            4  you sir are my hero any chance you remember wh...        -1\n",
       "5            5    congratulations from me as well use the tool...        -1\n",
       "6            6       cocksucker before you piss around on my work         1\n",
       "7            7  your vandalism to the matt shirvington article...        -1\n",
       "8            8  sorry if the word nonsense was offensive to yo...        -1\n",
       "9            9  alignment on this subject and which are contra...        -1\n",
       "10          10   fair use rationale for image wonju jpg thanks...        -1\n",
       "11          11  bbq  be a man and lets discuss it maybe over t...        -1\n",
       "12          12  hey  what is it    talk  what is it  an exclus...         1\n",
       "13          13  before you start throwing accusations and warn...        -1\n",
       "14          14  oh and the girl above started her arguments wi...        -1"
      ]
     },
     "execution_count": 2,
     "metadata": {},
     "output_type": "execute_result"
    }
   ],
   "source": [
    "import re\n",
    "def function(string):\n",
    "    string = string.lower()\n",
    "    string = re.sub('[^a-z, 0-9]', ' ', string)\n",
    "    string = re.sub('  ', ' ', string)\n",
    "    string = re.sub(',', '', string)\n",
    "    return string\n",
    "\n",
    "train['comment_text'] = train['comment_text'].apply(function)\n",
    "train['is_toxic'] = train['is_toxic'].apply(lambda x: -1 if x == False  else 1)\n",
    "test['comment_text'] = train['comment_text'].apply(function)\n",
    "test['is_toxic'] = train['is_toxic'].apply(lambda x: -1 if x == False  else 1)\n",
    "train.head(15)"
   ]
  },
  {
   "cell_type": "code",
   "execution_count": 3,
   "metadata": {},
   "outputs": [
    {
     "data": {
      "text/plain": [
       "0     explanation why the edits made under my userna...\n",
       "1     d aww he matches this background colour i m se...\n",
       "2     hey man i m really not trying to edit war it s...\n",
       "3      more i can t make any real suggestions on imp...\n",
       "4     you sir are my hero any chance you remember wh...\n",
       "5       congratulations from me as well use the tool...\n",
       "6          cocksucker before you piss around on my work\n",
       "7     your vandalism to the matt shirvington article...\n",
       "8     sorry if the word nonsense was offensive to yo...\n",
       "9     alignment on this subject and which are contra...\n",
       "10     fair use rationale for image wonju jpg thanks...\n",
       "11    bbq  be a man and lets discuss it maybe over t...\n",
       "12    hey  what is it    talk  what is it  an exclus...\n",
       "13    before you start throwing accusations and warn...\n",
       "14    oh and the girl above started her arguments wi...\n",
       "Name: comment_text, dtype: object"
      ]
     },
     "execution_count": 3,
     "metadata": {},
     "output_type": "execute_result"
    }
   ],
   "source": [
    "train['comment_text'].head(15)"
   ]
  },
  {
   "cell_type": "markdown",
   "metadata": {},
   "source": [
    "### 2 Преобразуйте выборку в разреженную матрицу scipy.sparse.csr_matrix, где значение x в позиции (i, j) означает, что в документе i слово j встретилось x раз. Разрешается воспользоваться конструктором sklearn.feature_extraction.text.CountVectorizer.\n",
    " #### Замечание 1. У CountVectorizer есть несколько методов для работы, используйте fit_transform и fit для обучающей выборки, используйте transform для тестовой.\n",
    " ##### Замечание 2. Используйте параметр min_df, чтобы уменьшить размерность данных и ускорить проведение экспериментов."
   ]
  },
  {
   "cell_type": "markdown",
   "metadata": {},
   "source": [
    "Без min_df"
   ]
  },
  {
   "cell_type": "code",
   "execution_count": 4,
   "metadata": {},
   "outputs": [],
   "source": [
    "from sklearn.feature_extraction.text import CountVectorizer\n",
    "#for train fit_transform and fit, for test transform\n",
    "vectorizer = CountVectorizer(min_df=0.1)\n",
    "X_train = vectorizer.fit_transform(train['comment_text'])\n",
    "X_test = vectorizer.transform(test['comment_text'])"
   ]
  },
  {
   "cell_type": "code",
   "execution_count": 5,
   "metadata": {},
   "outputs": [
    {
     "data": {
      "text/plain": [
       "(52061, 55)"
      ]
     },
     "execution_count": 5,
     "metadata": {},
     "output_type": "execute_result"
    }
   ],
   "source": [
    "X_train.shape"
   ]
  },
  {
   "cell_type": "code",
   "execution_count": 6,
   "metadata": {},
   "outputs": [
    {
     "data": {
      "text/plain": [
       "(20676, 55)"
      ]
     },
     "execution_count": 6,
     "metadata": {},
     "output_type": "execute_result"
    }
   ],
   "source": [
    "X_test.shape"
   ]
  },
  {
   "cell_type": "code",
   "execution_count": 7,
   "metadata": {},
   "outputs": [],
   "source": [
    "Y_train = train['is_toxic']\n",
    "Y_test = test['is_toxic']"
   ]
  },
  {
   "cell_type": "code",
   "execution_count": 8,
   "metadata": {},
   "outputs": [],
   "source": [
    "import random\n",
    "import numpy as np\n",
    "import scipy\n",
    "import oracles\n",
    "import optimization"
   ]
  },
  {
   "cell_type": "code",
   "execution_count": 9,
   "metadata": {},
   "outputs": [],
   "source": [
    "model = optimization.GDClassifier('binary_logistic', step_alpha =0.01, step_beta = 0, max_iter=100, l2_coef=1, trace=True)"
   ]
  },
  {
   "cell_type": "code",
   "execution_count": 10,
   "metadata": {},
   "outputs": [],
   "source": [
    "model.fit(X_train, Y_train)"
   ]
  },
  {
   "cell_type": "code",
   "execution_count": 11,
   "metadata": {},
   "outputs": [],
   "source": [
    "Y_pred = model.predict(X_test)"
   ]
  },
  {
   "cell_type": "markdown",
   "metadata": {},
   "source": [
    "Проверка на адекватность"
   ]
  },
  {
   "cell_type": "code",
   "execution_count": 12,
   "metadata": {},
   "outputs": [
    {
     "data": {
      "text/plain": [
       "0.7350031693590211"
      ]
     },
     "execution_count": 12,
     "metadata": {},
     "output_type": "execute_result"
    }
   ],
   "source": [
    "model.score(X_train, Y_train)"
   ]
  },
  {
   "cell_type": "markdown",
   "metadata": {},
   "source": [
    "## 3. Исследуйте поведение градиентного спуска для задачи логистической регрессии в зависимости от следующих параметров:\n",
    "\n",
    "• параметр размера шага step_alpha\n",
    "\n",
    "• параметр размера шага step_beta\n",
    "\n",
    "• начального приближения\n",
    "\n",
    "Исследование поведения подразумевает анализ следуюших зависимостей:\n",
    "\n",
    "• зависимость значения функции потерь от реального времени работы метода\n",
    "\n",
    "• зависимость значения функции потерь от итерации метода (эпохи в случае стохастического варианта)\n",
    "\n",
    "• зависимость точности (accuracy) от реального времени работы метода\n",
    "\n",
    "• зависимость точности (accuracy) итерации метода (эпохи в случае стохастического варианта)"
   ]
  },
  {
   "cell_type": "code",
   "execution_count": null,
   "metadata": {},
   "outputs": [],
   "source": [
    "from optimization import GDClassifier\n",
    "import random\n",
    "import matplotlib.pyplot as plt\n",
    "\n",
    "\n",
    "start = random.random()*5\n",
    "w = np.array([start]*X_train[1])\n",
    "alpha_vals = [0.001, 0.01, 0.1, 0.5, 1]\n",
    "fig, axs = plt.subplots(2, figsize = (17, 15))\n",
    "for alpha in alpha_vals:\n",
    "    obj = GDClassifier('binary_logistic', step_alpha = alpha, step_beta = 0.5, max_iter=2000, tolerance = 1e-4, l2_coef=1)\n",
    "    result = obj.fit(X_train, Y_train, trace=True, w_0=w)\n",
    "    \n",
    "    axs[0].plot(np.cumsum(result['time']), result['func'], label='alpha: '+str(alpha)[:6])\n",
    "    axs[0].set_title(u\"Зависимость значения функции от времени работы модели\")\n",
    "    axs[0].set_ylabel(\"Функция потерь\")\n",
    "    axs[0].set_xlabel(\"Время, сек\")\n",
    "    axs[0].grid()\n",
    "    axs[0].legend()\n",
    "    \n",
    "    axs[1].plot(np.arange(0, len(result['func'])), result['func'], label='alpha: '+str(alpha)[:6])\n",
    "    axs[1].set_title(u\"Зависимость значения функции от номера итерации\")\n",
    "    axs[1].set_ylabel(\"Функция потерь\")\n",
    "    axs[1].set_xlabel(\"Итерация\")\n",
    "    axs[1].grid()\n",
    "    axs[1].legend()\n",
    "    \n",
    "fig.tight_layout()"
   ]
  },
  {
   "cell_type": "markdown",
   "metadata": {},
   "source": [
    "Заметим, что при очень маленьких \\alpha шаг маленький и поэтому функция потерь убывает медленно, успевая достичь минимума при заданном тореранс.\n",
    "Видно, что при альфа=1 метод в какой-то момент перешагнул через минимум (скачок на графике). Т.е можно сделать вывод, что оптимальный альфа лежит между 0.5 и 1."
   ]
  },
  {
   "cell_type": "code",
   "execution_count": null,
   "metadata": {},
   "outputs": [],
   "source": [
    "start = random.random()*5\n",
    "w = np.array([start]*X_train.shape[1])\n",
    "beta_vals = [0, 0.01, 0.1, 0.5, 1]\n",
    "fig, axs = plt.subplots(2, figsize = (17, 15))\n",
    "for beta in beta_vals:\n",
    "    obj = GDClassifier('binary_logistic', step_alpha = 0.2, step_beta = beta, max_iter=2000, tolerance = 1e-4, l2_coef=1)\n",
    "    result = obj.fit(X_train, Y_train, trace=True, w_0=w)\n",
    "    \n",
    "    axs[0].plot(np.cumsum(result['time']), result['func'], label='beta: '+str(beta)[:6])\n",
    "    axs[0].set_title(u\"Зависимость значения функции от времени работы модели\")\n",
    "    axs[0].set_ylabel(\"Функция потерь\")\n",
    "    axs[0].set_xlabel(\"Время, сек\")\n",
    "    axs[0].grid()\n",
    "    #axs[0][0].set_xscale('log')\n",
    "    axs[0].legend()\n",
    "    \n",
    "    axs[1].plot(np.arange(0, len(result['func'])), result['func'], label='beta: '+str(beta)[:6])\n",
    "    axs[1].set_title(u\"Зависимость значения функции от номера итерации\")\n",
    "    axs[1].set_ylabel(\"Функция потерь\")\n",
    "    axs[1].set_xlabel(\"Итерация\")\n",
    "    axs[1].grid()\n",
    "    #axs[0][1].set_xscale('log')\n",
    "    axs[1].legend()\n",
    "\n",
    "fig.tight_layout()\n",
    "fig.savefig('gd_binary_beta.eps', format='eps')"
   ]
  },
  {
   "cell_type": "markdown",
   "metadata": {},
   "source": [
    "$\\betta$ отвечает за длину шага, начальные шаги будут большие, и чем больше значение итерации, тем меньше будет шаг, т.к по мере приближения к минимуму с количеством шагом ожидается, что нужно будет уточнять более точно. Ожидается, что при $\\betta$ = 0 метод должен расходится из-за способа задания шага (деление на $\\betta$)"
   ]
  },
  {
   "cell_type": "code",
   "execution_count": null,
   "metadata": {},
   "outputs": [],
   "source": [
    "w_vals = []\n",
    "for i in range(5):\n",
    "    start = random.random()*5\n",
    "    w_vals.append(np.array([start]*X_train.shape[1]))\n",
    "\n",
    "fig, axs = plt.subplots(2, figsize = (17, 15))\n",
    "for w in w_vals:\n",
    "    obj = GDClassifier('binary_logistic', step_alpha = 0.1, step_beta = 0.7, max_iter=2000, tolerance = 1e-4, l2_coef=1)\n",
    "    result = obj.fit(X_train, Y_train, trace=True, w_0=w)\n",
    "    \n",
    "    axs[0].plot(np.cumsum(result['time']), result['func'], label='w0: '+str(w[0])[:6])\n",
    "    axs[0].set_title(u\"Зависимость значения функции от времени работы модели\")\n",
    "    axs[0].set_ylabel(\"Функия потерь\")\n",
    "    axs[0].set_xlabel(\"Время\")\n",
    "    axs[0].grid()\n",
    "    #axs[0][0].set_xscale('log')\n",
    "    axs[0].legend()\n",
    "    \n",
    "    axs[1].plot(np.arange(0, len(result['func'])), result['func'], label='w0: '+str(w[0])[:6])\n",
    "    axs[1].set_title(u\"Зависимость значения функции от номера итерации\")\n",
    "    axs[1].set_ylabel(\"Функция потерь\")\n",
    "    axs[1].set_xlabel(\"Итерация\")\n",
    "    axs[1].grid()\n",
    "    #axs[0][1].set_xscale('log')\n",
    "    axs[1].legend()\n",
    "\n",
    "fig.tight_layout()\n",
    "fig.savefig('gd_binary_weights.eps', format='eps')"
   ]
  },
  {
   "cell_type": "markdown",
   "metadata": {},
   "source": [
    "При любом начальном векторе весов метод сходится, и чем он больше, тем более явно при начальных итерациях сходится метод."
   ]
  },
  {
   "cell_type": "code",
   "execution_count": null,
   "metadata": {},
   "outputs": [],
   "source": [
    "from optimization import SGDClassifier\n",
    "import matplotlib.pyplot as plt\n",
    "import random\n",
    "alpha_vals = [0.001, 0.01, 0.1, 0.5, 1]\n",
    "start = random.random()*5\n",
    "w = np.array([start]*X_train[1])\n",
    "fig, axs = plt.subplots(2, figsize = (17, 15))\n",
    "for alpha in alpha_vals:\n",
    "    obj = SGDClassifier('binary_logistic', batch_size = 1800, step_alpha = alpha, step_beta = 0.69, max_iter=500, tolerance = 1e-4, l2_coef=1)\n",
    "    result = obj.fit(X_train, Y_train, trace=True, log_freq = 1, w_0=w)\n",
    "    \n",
    "    axs[0].plot(np.cumsum(result['time']), result['func'], label='alpha: '+str(alpha)[:6])\n",
    "    axs[0].set_title(u\"Зависимость значения функции от времени работы модели\")\n",
    "    axs[0].set_ylabel(\"Функция потерь\")\n",
    "    axs[0].set_xlabel(\"Время\")\n",
    "    axs[0].grid()\n",
    "    axs[0].legend()\n",
    "    \n",
    "    axs[1].plot(result['epoch_num'], result['func'], label='alpha: '+str(alpha)[:6])\n",
    "    axs[1].set_title(u\"Зависимость значения функции от номера эпохи\")\n",
    "    axs[1].set_ylabel(\"Функция потерь\")\n",
    "    axs[1].set_xlabel(\"Эпоха\")\n",
    "    axs[1].grid()\n",
    "    axs[1].legend()\n",
    "fig.tight_layout()"
   ]
  },
  {
   "cell_type": "code",
   "execution_count": null,
   "metadata": {},
   "outputs": [],
   "source": []
  },
  {
   "cell_type": "code",
   "execution_count": null,
   "metadata": {},
   "outputs": [],
   "source": [
    "beta_vals = [0, 0.1, 0.5, 1]\n",
    "fig, axs = plt.subplots(2, figsize = (17, 15))\n",
    "start = random.random()*5\n",
    "w = np.array([start]*X_train[1])\n",
    "for beta in beta_vals:\n",
    "    obj = SGDClassifier('binary_logistic', batch_size = 1800, step_alpha = 0.2, step_beta = beta, max_iter=1000, tolerance = 1e-4, l2_coef=1)\n",
    "    result = obj.fit(X_train, Y_train, trace=True, log_freq = 1, w_0=w)\n",
    "    \n",
    "    axs[0].plot(np.cumsum(result['time']), result['func'], label='beta: '+str(beta)[:6])\n",
    "    axs[0].set_title(u\"Зависимость значения функции от времени работы модели\")\n",
    "    axs[0].set_ylabel(\"Функция потерь\")\n",
    "    axs[0].set_xlabel(\"Время, сек\")\n",
    "    axs[0].grid()\n",
    "    axs[0].legend()\n",
    "    \n",
    "    axs[1].plot(result['epoch_num'], result['func'], label='beta: '+str(beta)[:6])\n",
    "    axs[1].set_title(u\"Зависимость значения функции от номера эпохи\")\n",
    "    axs[1].set_ylabel(\"Функция потерь\")\n",
    "    axs[1].set_xlabel(\"Эпоха\")\n",
    "    axs[1].grid()\n",
    "    axs[1].legend()\n",
    "\n",
    "fig.tight_layout()"
   ]
  },
  {
   "cell_type": "code",
   "execution_count": null,
   "metadata": {},
   "outputs": [],
   "source": [
    "import numpy as np\n",
    "\n",
    "batch_vals = [10, 100, 500, 1000, 1500]\n",
    "fig, axs = plt.subplots(2, figsize = (17, 15))\n",
    "start = random.random()*5\n",
    "w = np.array([start]*X_train[1])\n",
    "for batch in batch_vals:\n",
    "    obj = SGDClassifier('binary_logistic', batch_size = batch, step_alpha = 0.2, step_beta = 0.7, max_iter=1000, tolerance = 1e-4, l2_coef=1)\n",
    "    result = obj.fit(X_train, Y_train, trace=True, log_freq = 1, w_0=w)\n",
    "    \n",
    "    axs[0].plot(np.cumsum(result['time']), result['func'], label='batch: '+str(batch)[:6])\n",
    "    axs[0].set_title(u\"Зависимость значения функции от времени работы модели\")\n",
    "    axs[0].set_ylabel(\"Функция потерь\")\n",
    "    axs[0].set_xlabel(\"Время,сек\")\n",
    "    axs[0].grid()\n",
    "    axs[0].legend()\n",
    "    \n",
    "    axs[1].plot(result['epoch_num'], result['func'], label='batch: '+str(batch)[:6])\n",
    "    axs[1].set_title(u\"Зависимость значения функции от номера эпохи\")\n",
    "    axs[1].set_ylabel(\"Функция потерь\")\n",
    "    axs[1].set_xlabel(\"Эпоха\")\n",
    "    axs[1].grid()\n",
    "    axs[1].legend()\n",
    "\n",
    "fig.tight_layout()"
   ]
  },
  {
   "cell_type": "code",
   "execution_count": null,
   "metadata": {},
   "outputs": [],
   "source": [
    "import random\n",
    "w_vals = []\n",
    "for i in range(5):\n",
    "    start = random.random()*5\n",
    "    w_vals.append(np.array([start]*X_train.shape[1]))\n",
    "fig, axs = plt.subplots(2, figsize = (17, 15))\n",
    "w = np.array([start]*X_train[1])\n",
    "for w in w_vals:\n",
    "    obj = SGDClassifier('binary_logistic', batch_size = 1800, step_alpha = 0.2, step_beta = 0.7, max_iter=2000, tolerance = 1e-4, l2_coef=1)\n",
    "    result = obj.fit(X_train, Y_train, trace=True, log_freq = 1, w_0=w)\n",
    "    \n",
    "    axs[0].plot(np.cumsum(result['time']), result['func'], label='w0: '+str(w[0])[:6])\n",
    "    axs[0].set_title(u\"Зависимость значения функции от времени работы модели\")\n",
    "    axs[0].set_ylabel(\"Функция потерь\")\n",
    "    axs[0].set_xlabel(\"Время, сек\")\n",
    "    axs[0].grid()\n",
    "    axs[0].legend()\n",
    "    \n",
    "    axs[1].plot(result['epoch_num'], result['func'], label='w0: '+str(w[0])[:6])\n",
    "    axs[1].set_title(u\"Зависимость значения функции от номера эпохи\")\n",
    "    axs[1].set_ylabel(\"Функция потерь\")\n",
    "    axs[1].set_xlabel(\"Эпоха\")\n",
    "    axs[1].grid()\n",
    "    axs[1].legend()\n",
    "\n",
    "fig.tight_layout()"
   ]
  },
  {
   "cell_type": "markdown",
   "metadata": {},
   "source": [
    "## 6. Исследуйте качество, время работы алгоритма и размер признакового пространства в зависимости от следуюших факторов:\n",
    "• использовалось представление BagOfWords или Tfidf\n",
    "• параметров min_df и max_df конструкторов.\n"
   ]
  },
  {
   "cell_type": "code",
   "execution_count": null,
   "metadata": {},
   "outputs": [],
   "source": [
    "from sklearn.feature_extraction.text import CountVectorizer, TfidfVectorizer"
   ]
  },
  {
   "cell_type": "code",
   "execution_count": null,
   "metadata": {},
   "outputs": [],
   "source": [
    "import matplotlib.pyplot as plt \n",
    "from optimization import GDClassifier\n",
    "from time import time\n",
    "min_df_vals = [0.5, 0.1, 0.05, 0.01]\n",
    "score_vals = []\n",
    "time_vals = []\n",
    "size_vals = []\n",
    "\n",
    "for min_df in min_df_vals:\n",
    "    obj = CountVectorizer(min_df = min_df)\n",
    "    X_train = obj.fit_transform(train['comment_text'])\n",
    "    X_test = obj.transform(test['comment_text'])\n",
    "    time_start = time()\n",
    "    obj = GDClassifier('binary_logistic', step_alpha = 0.1, step_beta = 0.57, max_iter=1000, l2_coef=1)\n",
    "    obj.fit(X_train, Y_train-1)\n",
    "    score_vals.append(obj.score(X_test, Y_test-1))\n",
    "    time_vals.append(time()-time_start)\n",
    "    size_vals.append(X_train.shape[1])\n",
    "    print('Ready')"
   ]
  },
  {
   "cell_type": "code",
   "execution_count": null,
   "metadata": {},
   "outputs": [],
   "source": [
    "fig, axs = plt.subplots(3, 1, figsize = (13, 11))\n",
    "axs[0].plot(min_df_vals, score_vals)\n",
    "axs[0].set_title(u\"Зависимость score от параметра min_df для BagOfWords\")\n",
    "axs[0].set_ylabel(\"Score values\")\n",
    "axs[0].set_xlabel(\"Min_df values\")\n",
    "axs[0].grid()\n",
    "#axs[0][0].set_xscale('log')\n",
    "\n",
    "axs[1].plot(min_df_vals, time_vals)\n",
    "axs[1].set_title(u\"Зависимость времени работы алгоритма от параметра min_df для BagOfWords\")\n",
    "axs[1].set_ylabel(\"Time values\")\n",
    "axs[1].set_xlabel(\"Min_df values\")\n",
    "axs[1].grid()\n",
    "#axs[0][0].set_xscale('log')\n",
    "\n",
    "axs[2].plot(min_df_vals, size_vals)\n",
    "axs[2].set_title(u\"Зависимость размера признакого пространства от параметра min_df для BagOfWords\")\n",
    "axs[2].set_ylabel(\"Train features size\")\n",
    "axs[2].set_xlabel(\"Min_df values\")\n",
    "axs[2].grid()\n",
    "#axs[0][0].set_xscale('log')\n",
    "fig.tight_layout()\n",
    "fig.savefig('gd_BOW_min.eps', format='eps')"
   ]
  }
 ],
 "metadata": {
  "kernelspec": {
   "display_name": "Python 3",
   "language": "python",
   "name": "python3"
  },
  "language_info": {
   "codemirror_mode": {
    "name": "ipython",
    "version": 3
   },
   "file_extension": ".py",
   "mimetype": "text/x-python",
   "name": "python",
   "nbconvert_exporter": "python",
   "pygments_lexer": "ipython3",
   "version": "3.7.4"
  }
 },
 "nbformat": 4,
 "nbformat_minor": 2
}
